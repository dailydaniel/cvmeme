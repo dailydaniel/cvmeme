{
 "cells": [
  {
   "metadata": {
    "ExecuteTime": {
     "end_time": "2024-08-02T17:20:25.666979Z",
     "start_time": "2024-08-02T17:20:25.661193Z"
    }
   },
   "cell_type": "code",
   "source": "from glob import glob",
   "id": "50cf5d064d9573d0",
   "outputs": [],
   "execution_count": 1
  },
  {
   "metadata": {
    "ExecuteTime": {
     "end_time": "2024-08-02T17:20:26.431983Z",
     "start_time": "2024-08-02T17:20:26.190354Z"
    }
   },
   "cell_type": "code",
   "source": [
    "import sys\n",
    "sys.path.append('../src/')\n",
    "\n",
    "from core import CVMEME, extract_text_from_pdf, parse_json_scale\n",
    "from prompts import cv_scale, scale, format_example"
   ],
   "id": "initial_id",
   "outputs": [],
   "execution_count": 2
  },
  {
   "metadata": {
    "ExecuteTime": {
     "end_time": "2024-08-02T17:20:26.948376Z",
     "start_time": "2024-08-02T17:20:26.933735Z"
    }
   },
   "cell_type": "code",
   "source": "cvmeme = CVMEME()",
   "id": "739d6efd86e619a3",
   "outputs": [],
   "execution_count": 3
  },
  {
   "metadata": {
    "ExecuteTime": {
     "end_time": "2024-08-02T17:20:33.093845Z",
     "start_time": "2024-08-02T17:20:33.091430Z"
    }
   },
   "cell_type": "code",
   "source": "cv_path = glob('../data/cv/*')[1]",
   "id": "6c71ff348e19ec8b",
   "outputs": [],
   "execution_count": 6
  },
  {
   "metadata": {
    "ExecuteTime": {
     "end_time": "2024-08-02T17:20:33.462933Z",
     "start_time": "2024-08-02T17:20:33.459582Z"
    }
   },
   "cell_type": "code",
   "source": "cv_path",
   "id": "df32497fd3a98e70",
   "outputs": [
    {
     "data": {
      "text/plain": [
       "'../data/cv/AlSolCV.pdf'"
      ]
     },
     "execution_count": 7,
     "metadata": {},
     "output_type": "execute_result"
    }
   ],
   "execution_count": 7
  },
  {
   "metadata": {
    "ExecuteTime": {
     "end_time": "2024-08-02T17:20:34.493227Z",
     "start_time": "2024-08-02T17:20:34.474330Z"
    }
   },
   "cell_type": "code",
   "source": "cv = extract_text_from_pdf(cv_path, bytes=False)",
   "id": "ca0b902ce3ab293f",
   "outputs": [],
   "execution_count": 8
  },
  {
   "metadata": {
    "ExecuteTime": {
     "end_time": "2024-08-02T16:47:56.606716Z",
     "start_time": "2024-08-02T16:47:56.545732Z"
    }
   },
   "cell_type": "code",
   "source": "cv, cv_processed = cvmeme.process_cv(cv_path, bytes=False)",
   "id": "bfded1a4e66222e9",
   "outputs": [
    {
     "ename": "TypeError",
     "evalue": "bad stream: type(stream)=<class 'str'>.",
     "output_type": "error",
     "traceback": [
      "\u001B[0;31m---------------------------------------------------------------------------\u001B[0m",
      "\u001B[0;31mTypeError\u001B[0m                                 Traceback (most recent call last)",
      "\u001B[0;32m/var/folders/d5/fs_2ycr11tsg8bmr83z_23hr0000gp/T/ipykernel_35215/555405691.py\u001B[0m in \u001B[0;36m?\u001B[0;34m()\u001B[0m\n\u001B[0;32m----> 1\u001B[0;31m \u001B[0mcv\u001B[0m\u001B[0;34m,\u001B[0m \u001B[0mcv_processed\u001B[0m \u001B[0;34m=\u001B[0m \u001B[0mcvmeme\u001B[0m\u001B[0;34m.\u001B[0m\u001B[0mprocess_cv\u001B[0m\u001B[0;34m(\u001B[0m\u001B[0mcv_path\u001B[0m\u001B[0;34m,\u001B[0m \u001B[0mbytes\u001B[0m\u001B[0;34m=\u001B[0m\u001B[0;32mFalse\u001B[0m\u001B[0;34m)\u001B[0m\u001B[0;34m\u001B[0m\u001B[0;34m\u001B[0m\u001B[0m\n\u001B[0m",
      "\u001B[0;32m~/Documents/cvmeme/cvmeme/notebooks/../src/core.py\u001B[0m in \u001B[0;36m?\u001B[0;34m(self, file, bytes)\u001B[0m\n\u001B[1;32m    173\u001B[0m     \u001B[0;32mdef\u001B[0m \u001B[0mprocess_cv\u001B[0m\u001B[0;34m(\u001B[0m\u001B[0mself\u001B[0m\u001B[0;34m,\u001B[0m \u001B[0mfile\u001B[0m\u001B[0;34m:\u001B[0m \u001B[0mstr\u001B[0m \u001B[0;34m|\u001B[0m \u001B[0mBytesIO\u001B[0m\u001B[0;34m,\u001B[0m \u001B[0mbytes\u001B[0m\u001B[0;34m=\u001B[0m\u001B[0;32mTrue\u001B[0m\u001B[0;34m)\u001B[0m \u001B[0;34m->\u001B[0m \u001B[0mtuple\u001B[0m\u001B[0;34m[\u001B[0m\u001B[0mstr\u001B[0m\u001B[0;34m,\u001B[0m \u001B[0mstr\u001B[0m\u001B[0;34m]\u001B[0m\u001B[0;34m:\u001B[0m\u001B[0;34m\u001B[0m\u001B[0;34m\u001B[0m\u001B[0m\n\u001B[0;32m--> 174\u001B[0;31m         \u001B[0mtext\u001B[0m \u001B[0;34m=\u001B[0m \u001B[0mextract_text_from_pdf\u001B[0m\u001B[0;34m(\u001B[0m\u001B[0mfile\u001B[0m\u001B[0;34m,\u001B[0m \u001B[0mbytes\u001B[0m\u001B[0;34m)\u001B[0m\u001B[0;34m\u001B[0m\u001B[0;34m\u001B[0m\u001B[0m\n\u001B[0m\u001B[1;32m    175\u001B[0m         \u001B[0;32mreturn\u001B[0m \u001B[0mtext\u001B[0m\u001B[0;34m,\u001B[0m \u001B[0mself\u001B[0m\u001B[0;34m.\u001B[0m\u001B[0mget_cv_scale\u001B[0m\u001B[0;34m(\u001B[0m\u001B[0mtext\u001B[0m\u001B[0;34m)\u001B[0m\u001B[0;34m\u001B[0m\u001B[0;34m\u001B[0m\u001B[0m\n",
      "\u001B[0;32m~/Documents/cvmeme/cvmeme/notebooks/../src/core.py\u001B[0m in \u001B[0;36m?\u001B[0;34m(file, max_pages, bytes)\u001B[0m\n\u001B[1;32m     16\u001B[0m \u001B[0;32mdef\u001B[0m \u001B[0mextract_text_from_pdf\u001B[0m\u001B[0;34m(\u001B[0m\u001B[0mfile\u001B[0m\u001B[0;34m,\u001B[0m \u001B[0mmax_pages\u001B[0m\u001B[0;34m=\u001B[0m\u001B[0;36m5\u001B[0m\u001B[0;34m,\u001B[0m \u001B[0mbytes\u001B[0m\u001B[0;34m=\u001B[0m\u001B[0;32mTrue\u001B[0m\u001B[0;34m)\u001B[0m \u001B[0;34m->\u001B[0m \u001B[0mstr\u001B[0m\u001B[0;34m:\u001B[0m\u001B[0;34m\u001B[0m\u001B[0;34m\u001B[0m\u001B[0m\n\u001B[1;32m     17\u001B[0m     \u001B[0;32mif\u001B[0m \u001B[0mbytes\u001B[0m\u001B[0;34m:\u001B[0m\u001B[0;34m\u001B[0m\u001B[0;34m\u001B[0m\u001B[0m\n\u001B[0;32m---> 18\u001B[0;31m         \u001B[0mdocument\u001B[0m \u001B[0;34m=\u001B[0m \u001B[0mfitz\u001B[0m\u001B[0;34m.\u001B[0m\u001B[0mopen\u001B[0m\u001B[0;34m(\u001B[0m\u001B[0mstream\u001B[0m\u001B[0;34m=\u001B[0m\u001B[0mfile\u001B[0m\u001B[0;34m,\u001B[0m \u001B[0mfiletype\u001B[0m\u001B[0;34m=\u001B[0m\u001B[0;34m\"pdf\"\u001B[0m\u001B[0;34m)\u001B[0m\u001B[0;34m\u001B[0m\u001B[0;34m\u001B[0m\u001B[0m\n\u001B[0m\u001B[1;32m     19\u001B[0m     \u001B[0;32melse\u001B[0m\u001B[0;34m:\u001B[0m\u001B[0;34m\u001B[0m\u001B[0;34m\u001B[0m\u001B[0m\n\u001B[1;32m     20\u001B[0m         \u001B[0mdocument\u001B[0m \u001B[0;34m=\u001B[0m \u001B[0mfitz\u001B[0m\u001B[0;34m.\u001B[0m\u001B[0mopen\u001B[0m\u001B[0;34m(\u001B[0m\u001B[0mfile\u001B[0m\u001B[0;34m)\u001B[0m\u001B[0;34m\u001B[0m\u001B[0;34m\u001B[0m\u001B[0m\n\u001B[1;32m     21\u001B[0m \u001B[0;34m\u001B[0m\u001B[0m\n",
      "\u001B[0;32m/opt/homebrew/Caskroom/miniforge/base/envs/pet_env/lib/python3.11/site-packages/pymupdf/__init__.py\u001B[0m in \u001B[0;36m?\u001B[0;34m(self, filename, stream, filetype, rect, width, height, fontsize)\u001B[0m\n\u001B[1;32m   2884\u001B[0m                     \u001B[0mself\u001B[0m\u001B[0;34m.\u001B[0m\u001B[0mpage_count2\u001B[0m \u001B[0;34m=\u001B[0m \u001B[0mextra\u001B[0m\u001B[0;34m.\u001B[0m\u001B[0mpage_count_pdf\u001B[0m\u001B[0;34m\u001B[0m\u001B[0;34m\u001B[0m\u001B[0m\n\u001B[1;32m   2885\u001B[0m                 \u001B[0;32melse\u001B[0m\u001B[0;34m:\u001B[0m\u001B[0;34m\u001B[0m\u001B[0;34m\u001B[0m\u001B[0m\n\u001B[1;32m   2886\u001B[0m                     \u001B[0mself\u001B[0m\u001B[0;34m.\u001B[0m\u001B[0mpage_count2\u001B[0m \u001B[0;34m=\u001B[0m \u001B[0mextra\u001B[0m\u001B[0;34m.\u001B[0m\u001B[0mpage_count_fz\u001B[0m\u001B[0;34m\u001B[0m\u001B[0;34m\u001B[0m\u001B[0m\n\u001B[1;32m   2887\u001B[0m         \u001B[0;32mfinally\u001B[0m\u001B[0;34m:\u001B[0m\u001B[0;34m\u001B[0m\u001B[0;34m\u001B[0m\u001B[0m\n\u001B[0;32m-> 2888\u001B[0;31m             \u001B[0mJM_mupdf_show_errors\u001B[0m \u001B[0;34m=\u001B[0m \u001B[0mJM_mupdf_show_errors_old\u001B[0m\u001B[0;34m\u001B[0m\u001B[0;34m\u001B[0m\u001B[0m\n\u001B[0m",
      "\u001B[0;31mTypeError\u001B[0m: bad stream: type(stream)=<class 'str'>."
     ]
    }
   ],
   "execution_count": 7
  },
  {
   "metadata": {
    "ExecuteTime": {
     "end_time": "2024-08-02T14:09:16.795464Z",
     "start_time": "2024-08-02T14:09:16.791774Z"
    }
   },
   "cell_type": "code",
   "source": "cv_scores = cvmeme.get_scores(cv_processed)",
   "id": "d94e9ca82834b926",
   "outputs": [],
   "execution_count": 7
  },
  {
   "metadata": {
    "ExecuteTime": {
     "end_time": "2024-08-02T14:09:16.801613Z",
     "start_time": "2024-08-02T14:09:16.797322Z"
    }
   },
   "cell_type": "code",
   "source": "cv_scores",
   "id": "256ce272ef049a65",
   "outputs": [
    {
     "data": {
      "text/plain": [
       "['пух_смокинге_шаблон', 'сверхразум', 'da_poebat_mne_gosling']"
      ]
     },
     "execution_count": 8,
     "metadata": {},
     "output_type": "execute_result"
    }
   ],
   "execution_count": 8
  },
  {
   "metadata": {
    "ExecuteTime": {
     "end_time": "2024-08-02T14:09:17.767100Z",
     "start_time": "2024-08-02T14:09:16.802876Z"
    }
   },
   "cell_type": "code",
   "source": "meme = cvmeme.rerank_memes(cv, cv_scores)",
   "id": "f2f9f1e4589ef77",
   "outputs": [],
   "execution_count": 9
  },
  {
   "metadata": {
    "ExecuteTime": {
     "end_time": "2024-08-02T14:09:17.774670Z",
     "start_time": "2024-08-02T14:09:17.768814Z"
    }
   },
   "cell_type": "code",
   "source": "meme",
   "id": "79d3fdd8721c62d7",
   "outputs": [
    {
     "data": {
      "text/plain": [
       "'пух_смокинге_шаблон'"
      ]
     },
     "execution_count": 10,
     "metadata": {},
     "output_type": "execute_result"
    }
   ],
   "execution_count": 10
  },
  {
   "metadata": {
    "ExecuteTime": {
     "end_time": "2024-08-02T14:10:18.518180Z",
     "start_time": "2024-08-02T14:10:18.515267Z"
    }
   },
   "cell_type": "code",
   "source": "img = cvmeme.get_meme_img_path(meme)",
   "id": "2260a3fb1a9bbfd7",
   "outputs": [],
   "execution_count": 11
  },
  {
   "metadata": {
    "ExecuteTime": {
     "end_time": "2024-08-02T14:10:20.013205Z",
     "start_time": "2024-08-02T14:10:20.008918Z"
    }
   },
   "cell_type": "code",
   "source": "img",
   "id": "f3c362603073326",
   "outputs": [
    {
     "data": {
      "text/plain": [
       "'../data/meme/img/пух_смокинге_шаблон.jpg'"
      ]
     },
     "execution_count": 12,
     "metadata": {},
     "output_type": "execute_result"
    }
   ],
   "execution_count": 12
  },
  {
   "metadata": {
    "ExecuteTime": {
     "end_time": "2024-08-02T14:23:17.055228Z",
     "start_time": "2024-08-02T14:23:17.001006Z"
    }
   },
   "cell_type": "code",
   "source": [
    "import telegram\n",
    "telegram.__version__"
   ],
   "id": "1d4df289febb1e7",
   "outputs": [
    {
     "data": {
      "text/plain": [
       "'21.4'"
      ]
     },
     "execution_count": 13,
     "metadata": {},
     "output_type": "execute_result"
    }
   ],
   "execution_count": 13
  },
  {
   "metadata": {
    "ExecuteTime": {
     "end_time": "2024-08-02T14:54:18.512903Z",
     "start_time": "2024-08-02T14:54:17.058319Z"
    }
   },
   "cell_type": "code",
   "source": "cvmeme.get_other_respond(\"привет\")",
   "id": "6a748e2d6a245cbe",
   "outputs": [],
   "execution_count": 4
  },
  {
   "metadata": {
    "ExecuteTime": {
     "end_time": "2024-08-02T15:08:58.486439Z",
     "start_time": "2024-08-02T15:08:58.479774Z"
    }
   },
   "cell_type": "code",
   "source": [
    "from random import random, choices\n",
    "\n",
    "random()"
   ],
   "id": "80805ad2c9890724",
   "outputs": [
    {
     "data": {
      "text/plain": [
       "0.3284822757205327"
      ]
     },
     "execution_count": 5,
     "metadata": {},
     "output_type": "execute_result"
    }
   ],
   "execution_count": 5
  },
  {
   "metadata": {
    "ExecuteTime": {
     "end_time": "2024-08-02T15:09:12.246372Z",
     "start_time": "2024-08-02T15:09:12.241809Z"
    }
   },
   "cell_type": "code",
   "source": "choices([1, 2, 3])",
   "id": "e828cb4b7b1ee253",
   "outputs": [
    {
     "data": {
      "text/plain": [
       "[1]"
      ]
     },
     "execution_count": 9,
     "metadata": {},
     "output_type": "execute_result"
    }
   ],
   "execution_count": 9
  },
  {
   "metadata": {
    "ExecuteTime": {
     "end_time": "2024-08-02T17:20:41.283004Z",
     "start_time": "2024-08-02T17:20:41.280040Z"
    }
   },
   "cell_type": "code",
   "source": [
    "from openai import OpenAI\n",
    "from dotenv import load_dotenv\n",
    "import os"
   ],
   "id": "9ad74ad21fb3f83b",
   "outputs": [],
   "execution_count": 9
  },
  {
   "metadata": {
    "ExecuteTime": {
     "end_time": "2024-08-02T17:20:41.841658Z",
     "start_time": "2024-08-02T17:20:41.837414Z"
    }
   },
   "cell_type": "code",
   "source": "load_dotenv()",
   "id": "812d2a0446339a2e",
   "outputs": [
    {
     "data": {
      "text/plain": [
       "True"
      ]
     },
     "execution_count": 10,
     "metadata": {},
     "output_type": "execute_result"
    }
   ],
   "execution_count": 10
  },
  {
   "metadata": {
    "ExecuteTime": {
     "end_time": "2024-08-02T17:20:42.691512Z",
     "start_time": "2024-08-02T17:20:42.676538Z"
    }
   },
   "cell_type": "code",
   "source": [
    "client = OpenAI(\n",
    "    api_key=os.environ['OPENAI_API_KEY'],\n",
    "    base_url=os.environ['LLM_HOST']\n",
    ")"
   ],
   "id": "f2463ec8d4dd6ffd",
   "outputs": [],
   "execution_count": 11
  },
  {
   "metadata": {
    "ExecuteTime": {
     "end_time": "2024-08-02T17:20:44.158311Z",
     "start_time": "2024-08-02T17:20:43.894035Z"
    }
   },
   "cell_type": "code",
   "source": "model_name = client.models.list().data[0].id",
   "id": "5219b702e719d2af",
   "outputs": [],
   "execution_count": 12
  },
  {
   "metadata": {
    "ExecuteTime": {
     "end_time": "2024-08-02T17:20:44.533235Z",
     "start_time": "2024-08-02T17:20:44.529929Z"
    }
   },
   "cell_type": "code",
   "source": "model_name",
   "id": "c8dc0e626ff2d911",
   "outputs": [
    {
     "data": {
      "text/plain": [
       "'google/gemma-2-2b-it'"
      ]
     },
     "execution_count": 13,
     "metadata": {},
     "output_type": "execute_result"
    }
   ],
   "execution_count": 13
  },
  {
   "metadata": {
    "ExecuteTime": {
     "end_time": "2024-08-02T17:20:49.315093Z",
     "start_time": "2024-08-02T17:20:44.973041Z"
    }
   },
   "cell_type": "code",
   "source": [
    "response = client.chat.completions.create(\n",
    "    model=model_name,\n",
    "    messages=[\n",
    "        {\n",
    "            \"role\": \"user\",\n",
    "            \"content\": [\n",
    "                {\"type\": \"text\", \"text\": cv_scale.format(\n",
    "                    cv=cv,\n",
    "                    scale=scale\n",
    "                ) + format_example},\n",
    "            ],\n",
    "        }\n",
    "    ],\n",
    "    max_tokens=512,\n",
    "    temperature=0.0,\n",
    ")\n",
    "\n",
    "# return response.choices[0].message.content"
   ],
   "id": "112a672c4ecf891f",
   "outputs": [],
   "execution_count": 14
  },
  {
   "metadata": {
    "ExecuteTime": {
     "end_time": "2024-08-02T17:20:54.750815Z",
     "start_time": "2024-08-02T17:20:54.745883Z"
    }
   },
   "cell_type": "code",
   "source": [
    "splitted = response.choices[0].message.content.split('\\n')\n",
    "splitted[0] == '```json' and splitted[-1] == '```', splitted[0], splitted[-1]"
   ],
   "id": "1b1f5354c13fd793",
   "outputs": [
    {
     "data": {
      "text/plain": [
       "(False, '```json', '')"
      ]
     },
     "execution_count": 15,
     "metadata": {},
     "output_type": "execute_result"
    }
   ],
   "execution_count": 15
  },
  {
   "metadata": {
    "ExecuteTime": {
     "end_time": "2024-08-02T17:20:56.000969Z",
     "start_time": "2024-08-02T17:20:55.996626Z"
    }
   },
   "cell_type": "code",
   "source": "splitted[-2].strip()",
   "id": "a4547a51b431f513",
   "outputs": [
    {
     "data": {
      "text/plain": [
       "'```'"
      ]
     },
     "execution_count": 16,
     "metadata": {},
     "output_type": "execute_result"
    }
   ],
   "execution_count": 16
  },
  {
   "metadata": {
    "ExecuteTime": {
     "end_time": "2024-08-02T17:20:56.969251Z",
     "start_time": "2024-08-02T17:20:56.794242Z"
    }
   },
   "cell_type": "code",
   "source": "parse_json_scale(response.choices[0].message.content)",
   "id": "5af0c836cab71bef",
   "outputs": [
    {
     "name": "stdout",
     "output_type": "stream",
     "text": [
      "return\n"
     ]
    },
    {
     "ename": "ValueError",
     "evalue": "Invalid json format {'опыт_работы': 3, 'ответственность': 3, 'креативность': 3, 'коммуникабельность': 4, 'лидерские_качества': 2, 'стрессоустойчивость': 4, 'уровень_сложности_работы': 4, 'средняя_продолжительность_работы_на_одном_месте': 3, 'карьерный_рост': 3, 'уровень_дотошности_описания': 4, 'уровень_заумности': 3, 'уровень_высокомерия': 2, 'образование': 4, 'академичность': 3, 'иностранные_языки': [{'английский': 'хороший'}, {'итальянский': 'а2'}], 'профессиональные_сертификаты': []}",
     "output_type": "error",
     "traceback": [
      "\u001B[0;31m---------------------------------------------------------------------------\u001B[0m",
      "\u001B[0;31mTypeError\u001B[0m                                 Traceback (most recent call last)",
      "File \u001B[0;32m~/Documents/cvmeme/cvmeme/notebooks/../src/core.py:70\u001B[0m, in \u001B[0;36mparse_json_scale\u001B[0;34m(txt, return_full)\u001B[0m\n\u001B[1;32m     69\u001B[0m     \u001B[38;5;28mprint\u001B[39m(\u001B[38;5;124m'\u001B[39m\u001B[38;5;124mreturn\u001B[39m\u001B[38;5;124m'\u001B[39m)\n\u001B[0;32m---> 70\u001B[0m     \u001B[38;5;28;01mreturn\u001B[39;00m \u001B[43m[\u001B[49m\u001B[38;5;28;43mint\u001B[39;49m\u001B[43m(\u001B[49m\u001B[43mv\u001B[49m\u001B[43m)\u001B[49m\u001B[43m \u001B[49m\u001B[38;5;28;43;01mfor\u001B[39;49;00m\u001B[43m \u001B[49m\u001B[43m_\u001B[49m\u001B[43m,\u001B[49m\u001B[43m \u001B[49m\u001B[43mv\u001B[49m\u001B[43m \u001B[49m\u001B[38;5;129;43;01min\u001B[39;49;00m\u001B[43m \u001B[49m\u001B[43mparsed\u001B[49m\u001B[38;5;241;43m.\u001B[39;49m\u001B[43mitems\u001B[49m\u001B[43m(\u001B[49m\u001B[43m)\u001B[49m\u001B[43m]\u001B[49m\n\u001B[1;32m     71\u001B[0m \u001B[38;5;28;01mexcept\u001B[39;00m:\n",
      "File \u001B[0;32m~/Documents/cvmeme/cvmeme/notebooks/../src/core.py:70\u001B[0m, in \u001B[0;36m<listcomp>\u001B[0;34m(.0)\u001B[0m\n\u001B[1;32m     69\u001B[0m     \u001B[38;5;28mprint\u001B[39m(\u001B[38;5;124m'\u001B[39m\u001B[38;5;124mreturn\u001B[39m\u001B[38;5;124m'\u001B[39m)\n\u001B[0;32m---> 70\u001B[0m     \u001B[38;5;28;01mreturn\u001B[39;00m [\u001B[38;5;28;43mint\u001B[39;49m\u001B[43m(\u001B[49m\u001B[43mv\u001B[49m\u001B[43m)\u001B[49m \u001B[38;5;28;01mfor\u001B[39;00m _, v \u001B[38;5;129;01min\u001B[39;00m parsed\u001B[38;5;241m.\u001B[39mitems()]\n\u001B[1;32m     71\u001B[0m \u001B[38;5;28;01mexcept\u001B[39;00m:\n",
      "\u001B[0;31mTypeError\u001B[0m: int() argument must be a string, a bytes-like object or a real number, not 'list'",
      "\nDuring handling of the above exception, another exception occurred:\n",
      "\u001B[0;31mValueError\u001B[0m                                Traceback (most recent call last)",
      "Cell \u001B[0;32mIn[17], line 1\u001B[0m\n\u001B[0;32m----> 1\u001B[0m \u001B[43mparse_json_scale\u001B[49m\u001B[43m(\u001B[49m\u001B[43mresponse\u001B[49m\u001B[38;5;241;43m.\u001B[39;49m\u001B[43mchoices\u001B[49m\u001B[43m[\u001B[49m\u001B[38;5;241;43m0\u001B[39;49m\u001B[43m]\u001B[49m\u001B[38;5;241;43m.\u001B[39;49m\u001B[43mmessage\u001B[49m\u001B[38;5;241;43m.\u001B[39;49m\u001B[43mcontent\u001B[49m\u001B[43m)\u001B[49m\n",
      "File \u001B[0;32m~/Documents/cvmeme/cvmeme/notebooks/../src/core.py:72\u001B[0m, in \u001B[0;36mparse_json_scale\u001B[0;34m(txt, return_full)\u001B[0m\n\u001B[1;32m     70\u001B[0m             \u001B[38;5;28;01mreturn\u001B[39;00m [\u001B[38;5;28mint\u001B[39m(v) \u001B[38;5;28;01mfor\u001B[39;00m _, v \u001B[38;5;129;01min\u001B[39;00m parsed\u001B[38;5;241m.\u001B[39mitems()]\n\u001B[1;32m     71\u001B[0m         \u001B[38;5;28;01mexcept\u001B[39;00m:\n\u001B[0;32m---> 72\u001B[0m             \u001B[38;5;28;01mraise\u001B[39;00m \u001B[38;5;167;01mValueError\u001B[39;00m(\u001B[38;5;124mf\u001B[39m\u001B[38;5;124m\"\u001B[39m\u001B[38;5;124mInvalid json format \u001B[39m\u001B[38;5;132;01m{\u001B[39;00mparsed\u001B[38;5;132;01m}\u001B[39;00m\u001B[38;5;124m\"\u001B[39m)\n\u001B[1;32m     73\u001B[0m \u001B[38;5;28;01melse\u001B[39;00m:\n\u001B[1;32m     74\u001B[0m     \u001B[38;5;28;01mraise\u001B[39;00m \u001B[38;5;167;01mValueError\u001B[39;00m(\u001B[38;5;124mf\u001B[39m\u001B[38;5;124m\"\u001B[39m\u001B[38;5;124mInvalid json format \u001B[39m\u001B[38;5;132;01m{\u001B[39;00mtxt\u001B[38;5;132;01m}\u001B[39;00m\u001B[38;5;124m\"\u001B[39m)\n",
      "\u001B[0;31mValueError\u001B[0m: Invalid json format {'опыт_работы': 3, 'ответственность': 3, 'креативность': 3, 'коммуникабельность': 4, 'лидерские_качества': 2, 'стрессоустойчивость': 4, 'уровень_сложности_работы': 4, 'средняя_продолжительность_работы_на_одном_месте': 3, 'карьерный_рост': 3, 'уровень_дотошности_описания': 4, 'уровень_заумности': 3, 'уровень_высокомерия': 2, 'образование': 4, 'академичность': 3, 'иностранные_языки': [{'английский': 'хороший'}, {'итальянский': 'а2'}], 'профессиональные_сертификаты': []}"
     ]
    }
   ],
   "execution_count": 17
  },
  {
   "metadata": {
    "ExecuteTime": {
     "end_time": "2024-08-02T16:53:50.912008Z",
     "start_time": "2024-08-02T16:53:50.908301Z"
    }
   },
   "cell_type": "code",
   "source": "print(response.choices[0].message.content)",
   "id": "4513193c066711ba",
   "outputs": [
    {
     "name": "stdout",
     "output_type": "stream",
     "text": [
      "```json\n",
      "{\n",
      "    \"опыт_работы\": 3,\n",
      "    \"ответственность\": 3,\n",
      "    \"креативность\": 4,\n",
      "    \"коммуникабельность\": 4,\n",
      "    \"лидерские_качества\": 3,\n",
      "    \"стрессоустойчивость\": 4,\n",
      "    \"уровень_сложности_работы\": 4,\n",
      "    \"средняя_продолжительность_работы_на_одном_месте\": 3,\n",
      "    \"карьерный_рост\": 4,\n",
      "    \"уровень_дотошности_описания\": 4,\n",
      "    \"уровень_заумности\": 4,\n",
      "    \"уровень_высокомерия\": 3,\n",
      "    \"образование\": 4,\n",
      "    \"академичность\": 4,\n",
      "    \"иностранные_языки\": 4,\n",
      "    \"профессиональные_сертификаты\": 2\n",
      "}\n",
      "``` \n",
      "\n"
     ]
    }
   ],
   "execution_count": 13
  },
  {
   "metadata": {
    "ExecuteTime": {
     "end_time": "2024-08-02T16:29:32.756910Z",
     "start_time": "2024-08-02T16:29:32.753814Z"
    }
   },
   "cell_type": "code",
   "source": [
    "base_prompt = \"\"\"\n",
    "Ты бот, который подбирает мем по резюме. \n",
    "Ответь на вопрос пользователя, если он на эту тему и попроси отправить pdf файл с резюме. \n",
    "НЕ ОТВЕЧАЙ на вопросы, которые не связаны с резюме.\n",
    "Если тебя спросят, то мы не храним резюме пользователей.\n",
    "Пиши ТОЛЬКО на русском языке.\n",
    "\"\"\""
   ],
   "id": "a51dd298b64fa7c4",
   "outputs": [],
   "execution_count": 17
  },
  {
   "metadata": {
    "ExecuteTime": {
     "end_time": "2024-08-02T16:29:57.252928Z",
     "start_time": "2024-08-02T16:29:54.636853Z"
    }
   },
   "cell_type": "code",
   "source": [
    "txt = \"привет\"\n",
    "\n",
    "response = client.chat.completions.create(\n",
    "    model=model_name,\n",
    "    messages=[\n",
    "        # {\n",
    "        #     \"role\": \"system\",\n",
    "        #     \"content\": [\n",
    "        #         {\"type\": \"text\", \"text\": base_prompt},\n",
    "        #     ],\n",
    "        # },\n",
    "        {\n",
    "            \"role\": \"user\",\n",
    "            \"content\": [\n",
    "                {\"type\": \"text\", \"text\": base_prompt+'\\n\\nСообщение:\\n'+txt},\n",
    "            ],\n",
    "        }\n",
    "    ],\n",
    "    max_tokens=512,\n",
    "    temperature=0.3,\n",
    ")"
   ],
   "id": "4ed6ce0ed3744315",
   "outputs": [],
   "execution_count": 20
  },
  {
   "metadata": {
    "ExecuteTime": {
     "end_time": "2024-08-02T16:29:58.179919Z",
     "start_time": "2024-08-02T16:29:58.176453Z"
    }
   },
   "cell_type": "code",
   "source": "print(response.choices[0].message.content)",
   "id": "4c1efc6c89e0e3c8",
   "outputs": [
    {
     "name": "stdout",
     "output_type": "stream",
     "text": [
      "Привет! Я бот, который поможет тебе найти идеальный мем для твоего резюме. Чтобы я мог подобрать мем, мне нужно увидеть твое резюме. Пожалуйста, отправь мне pdf-файл с твоим резюме.\n"
     ]
    }
   ],
   "execution_count": 21
  },
  {
   "metadata": {
    "ExecuteTime": {
     "end_time": "2024-08-02T21:07:04.975229Z",
     "start_time": "2024-08-02T21:07:04.721245Z"
    }
   },
   "cell_type": "code",
   "source": [
    "from PIL import Image\n",
    "\n",
    "def resize_image_if_needed(image_path: str) -> str:\n",
    "    max_size = (4096, 4096)\n",
    "    with Image.open(image_path) as img:\n",
    "        if img.width > max_size[0] or img.height > max_size[1]:\n",
    "            img.thumbnail(max_size, Image.ANTIALIAS)\n",
    "            resized_img_path = image_path.replace(\".jpg\", \"_resized.jpg\")\n",
    "            img.save(resized_img_path, \"JPEG\")\n",
    "            return resized_img_path\n",
    "    return image_path"
   ],
   "id": "518f7f112173feb6",
   "outputs": [],
   "execution_count": 1
  },
  {
   "metadata": {
    "ExecuteTime": {
     "end_time": "2024-08-02T21:07:58.959089Z",
     "start_time": "2024-08-02T21:07:58.956591Z"
    }
   },
   "cell_type": "code",
   "source": "from glob import glob",
   "id": "4350fcee47c8c6be",
   "outputs": [],
   "execution_count": 2
  },
  {
   "metadata": {
    "ExecuteTime": {
     "end_time": "2024-08-02T21:08:13.372768Z",
     "start_time": "2024-08-02T21:08:13.369600Z"
    }
   },
   "cell_type": "code",
   "source": "images = glob('../data/meme/img/*')",
   "id": "33952789e086b3e2",
   "outputs": [],
   "execution_count": 3
  },
  {
   "metadata": {
    "ExecuteTime": {
     "end_time": "2024-08-02T21:09:20.416627Z",
     "start_time": "2024-08-02T21:09:20.385796Z"
    }
   },
   "cell_type": "code",
   "source": [
    "max_size = (4096, 4096)\n",
    "\n",
    "for image in images:\n",
    "    with Image.open(image) as img:\n",
    "        if img.width > max_size[0] or img.height > max_size[1]:\n",
    "            print(image)"
   ],
   "id": "8c399b577475cba1",
   "outputs": [
    {
     "name": "stdout",
     "output_type": "stream",
     "text": [
      "../data/meme/img/futurama_fry.jpg\n"
     ]
    }
   ],
   "execution_count": 4
  },
  {
   "metadata": {
    "ExecuteTime": {
     "end_time": "2024-08-02T21:13:23.997920Z",
     "start_time": "2024-08-02T21:13:23.991669Z"
    }
   },
   "cell_type": "code",
   "source": [
    "import PIL\n",
    "PIL.__version__"
   ],
   "id": "973456ec64fc859",
   "outputs": [
    {
     "data": {
      "text/plain": [
       "'10.2.0'"
      ]
     },
     "execution_count": 5,
     "metadata": {},
     "output_type": "execute_result"
    }
   ],
   "execution_count": 5
  },
  {
   "metadata": {
    "ExecuteTime": {
     "end_time": "2024-08-02T22:09:47.230218Z",
     "start_time": "2024-08-02T22:09:47.227262Z"
    }
   },
   "cell_type": "code",
   "source": "from datetime import datetime",
   "id": "a26ea4274fffbca9",
   "outputs": [],
   "execution_count": 6
  },
  {
   "metadata": {
    "ExecuteTime": {
     "end_time": "2024-08-02T22:09:57.931460Z",
     "start_time": "2024-08-02T22:09:57.928846Z"
    }
   },
   "cell_type": "code",
   "source": "interaction_time = datetime.now().strftime(\"%Y-%m-%d %H:%M:%S\")",
   "id": "ffc6e2ee806c1b4c",
   "outputs": [],
   "execution_count": 7
  },
  {
   "metadata": {
    "ExecuteTime": {
     "end_time": "2024-08-02T22:10:00.029034Z",
     "start_time": "2024-08-02T22:10:00.025675Z"
    }
   },
   "cell_type": "code",
   "source": "interaction_time",
   "id": "f826b844a6a21e63",
   "outputs": [
    {
     "data": {
      "text/plain": [
       "'2024-08-03 01:09:57'"
      ]
     },
     "execution_count": 8,
     "metadata": {},
     "output_type": "execute_result"
    }
   ],
   "execution_count": 8
  },
  {
   "metadata": {
    "ExecuteTime": {
     "end_time": "2024-08-02T23:05:03.974160Z",
     "start_time": "2024-08-02T23:05:03.971434Z"
    }
   },
   "cell_type": "code",
   "source": "from random import choices, randint",
   "id": "83ef25fc39e5136a",
   "outputs": [],
   "execution_count": 13
  },
  {
   "metadata": {
    "ExecuteTime": {
     "end_time": "2024-08-02T23:04:01.259432Z",
     "start_time": "2024-08-02T23:04:01.254962Z"
    }
   },
   "cell_type": "code",
   "source": "choices([1, 2, 3], k=3, weights=[0.45, 0.35, 0.2])",
   "id": "5074c1743fdb5c8e",
   "outputs": [
    {
     "data": {
      "text/plain": [
       "[1, 2, 1]"
      ]
     },
     "execution_count": 11,
     "metadata": {},
     "output_type": "execute_result"
    }
   ],
   "execution_count": 11
  },
  {
   "metadata": {
    "ExecuteTime": {
     "end_time": "2024-08-02T23:05:14.454365Z",
     "start_time": "2024-08-02T23:05:14.449657Z"
    }
   },
   "cell_type": "code",
   "source": "randint(1, 3)",
   "id": "975dc5d0b83692f7",
   "outputs": [
    {
     "data": {
      "text/plain": [
       "2"
      ]
     },
     "execution_count": 18,
     "metadata": {},
     "output_type": "execute_result"
    }
   ],
   "execution_count": 18
  },
  {
   "metadata": {},
   "cell_type": "code",
   "outputs": [],
   "execution_count": null,
   "source": "",
   "id": "d3556302626ac929"
  }
 ],
 "metadata": {
  "kernelspec": {
   "display_name": "petenv",
   "language": "python",
   "name": "pet_env"
  },
  "language_info": {
   "codemirror_mode": {
    "name": "ipython",
    "version": 2
   },
   "file_extension": ".py",
   "mimetype": "text/x-python",
   "name": "python",
   "nbconvert_exporter": "python",
   "pygments_lexer": "ipython2",
   "version": "2.7.6"
  }
 },
 "nbformat": 4,
 "nbformat_minor": 5
}
