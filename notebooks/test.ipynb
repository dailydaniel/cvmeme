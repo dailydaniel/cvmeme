{
 "cells": [
  {
   "metadata": {
    "ExecuteTime": {
     "end_time": "2024-08-02T14:54:02.039879Z",
     "start_time": "2024-08-02T14:54:02.032094Z"
    }
   },
   "cell_type": "code",
   "source": "from glob import glob",
   "id": "50cf5d064d9573d0",
   "outputs": [],
   "execution_count": 1
  },
  {
   "metadata": {
    "ExecuteTime": {
     "end_time": "2024-08-02T14:54:02.695524Z",
     "start_time": "2024-08-02T14:54:02.447598Z"
    }
   },
   "cell_type": "code",
   "source": [
    "import sys\n",
    "sys.path.append('../src/')\n",
    "\n",
    "from core import CVMEME"
   ],
   "id": "initial_id",
   "outputs": [],
   "execution_count": 2
  },
  {
   "metadata": {
    "ExecuteTime": {
     "end_time": "2024-08-02T14:54:02.920879Z",
     "start_time": "2024-08-02T14:54:02.899162Z"
    }
   },
   "cell_type": "code",
   "source": "cvmeme = CVMEME()",
   "id": "739d6efd86e619a3",
   "outputs": [],
   "execution_count": 3
  },
  {
   "metadata": {
    "ExecuteTime": {
     "end_time": "2024-08-02T14:09:12.632809Z",
     "start_time": "2024-08-02T14:09:12.630971Z"
    }
   },
   "cell_type": "code",
   "source": "cv_path = glob('../data/cv/*')[0]",
   "id": "6c71ff348e19ec8b",
   "outputs": [],
   "execution_count": 4
  },
  {
   "metadata": {
    "ExecuteTime": {
     "end_time": "2024-08-02T14:09:12.638102Z",
     "start_time": "2024-08-02T14:09:12.634558Z"
    }
   },
   "cell_type": "code",
   "source": "cv_path",
   "id": "df32497fd3a98e70",
   "outputs": [
    {
     "data": {
      "text/plain": [
       "'../data/cv/Edwin_Paco_Software_Developer.pdf'"
      ]
     },
     "execution_count": 5,
     "metadata": {},
     "output_type": "execute_result"
    }
   ],
   "execution_count": 5
  },
  {
   "metadata": {
    "ExecuteTime": {
     "end_time": "2024-08-02T14:09:16.790019Z",
     "start_time": "2024-08-02T14:09:12.638749Z"
    }
   },
   "cell_type": "code",
   "source": "cv, cv_processed = cvmeme.process_cv(cv_path)",
   "id": "bfded1a4e66222e9",
   "outputs": [],
   "execution_count": 6
  },
  {
   "metadata": {
    "ExecuteTime": {
     "end_time": "2024-08-02T14:09:16.795464Z",
     "start_time": "2024-08-02T14:09:16.791774Z"
    }
   },
   "cell_type": "code",
   "source": "cv_scores = cvmeme.get_scores(cv_processed)",
   "id": "d94e9ca82834b926",
   "outputs": [],
   "execution_count": 7
  },
  {
   "metadata": {
    "ExecuteTime": {
     "end_time": "2024-08-02T14:09:16.801613Z",
     "start_time": "2024-08-02T14:09:16.797322Z"
    }
   },
   "cell_type": "code",
   "source": "cv_scores",
   "id": "256ce272ef049a65",
   "outputs": [
    {
     "data": {
      "text/plain": [
       "['пух_смокинге_шаблон', 'сверхразум', 'da_poebat_mne_gosling']"
      ]
     },
     "execution_count": 8,
     "metadata": {},
     "output_type": "execute_result"
    }
   ],
   "execution_count": 8
  },
  {
   "metadata": {
    "ExecuteTime": {
     "end_time": "2024-08-02T14:09:17.767100Z",
     "start_time": "2024-08-02T14:09:16.802876Z"
    }
   },
   "cell_type": "code",
   "source": "meme = cvmeme.rerank_memes(cv, cv_scores)",
   "id": "f2f9f1e4589ef77",
   "outputs": [],
   "execution_count": 9
  },
  {
   "metadata": {
    "ExecuteTime": {
     "end_time": "2024-08-02T14:09:17.774670Z",
     "start_time": "2024-08-02T14:09:17.768814Z"
    }
   },
   "cell_type": "code",
   "source": "meme",
   "id": "79d3fdd8721c62d7",
   "outputs": [
    {
     "data": {
      "text/plain": [
       "'пух_смокинге_шаблон'"
      ]
     },
     "execution_count": 10,
     "metadata": {},
     "output_type": "execute_result"
    }
   ],
   "execution_count": 10
  },
  {
   "metadata": {
    "ExecuteTime": {
     "end_time": "2024-08-02T14:10:18.518180Z",
     "start_time": "2024-08-02T14:10:18.515267Z"
    }
   },
   "cell_type": "code",
   "source": "img = cvmeme.get_meme_img_path(meme)",
   "id": "2260a3fb1a9bbfd7",
   "outputs": [],
   "execution_count": 11
  },
  {
   "metadata": {
    "ExecuteTime": {
     "end_time": "2024-08-02T14:10:20.013205Z",
     "start_time": "2024-08-02T14:10:20.008918Z"
    }
   },
   "cell_type": "code",
   "source": "img",
   "id": "f3c362603073326",
   "outputs": [
    {
     "data": {
      "text/plain": [
       "'../data/meme/img/пух_смокинге_шаблон.jpg'"
      ]
     },
     "execution_count": 12,
     "metadata": {},
     "output_type": "execute_result"
    }
   ],
   "execution_count": 12
  },
  {
   "metadata": {
    "ExecuteTime": {
     "end_time": "2024-08-02T14:23:17.055228Z",
     "start_time": "2024-08-02T14:23:17.001006Z"
    }
   },
   "cell_type": "code",
   "source": [
    "import telegram\n",
    "telegram.__version__"
   ],
   "id": "1d4df289febb1e7",
   "outputs": [
    {
     "data": {
      "text/plain": [
       "'21.4'"
      ]
     },
     "execution_count": 13,
     "metadata": {},
     "output_type": "execute_result"
    }
   ],
   "execution_count": 13
  },
  {
   "metadata": {
    "ExecuteTime": {
     "end_time": "2024-08-02T14:54:18.512903Z",
     "start_time": "2024-08-02T14:54:17.058319Z"
    }
   },
   "cell_type": "code",
   "source": "cvmeme.get_other_respond(\"привет\")",
   "id": "6a748e2d6a245cbe",
   "outputs": [],
   "execution_count": 4
  },
  {
   "metadata": {
    "ExecuteTime": {
     "end_time": "2024-08-02T15:08:58.486439Z",
     "start_time": "2024-08-02T15:08:58.479774Z"
    }
   },
   "cell_type": "code",
   "source": [
    "from random import random, choices\n",
    "\n",
    "random()"
   ],
   "id": "80805ad2c9890724",
   "outputs": [
    {
     "data": {
      "text/plain": [
       "0.3284822757205327"
      ]
     },
     "execution_count": 5,
     "metadata": {},
     "output_type": "execute_result"
    }
   ],
   "execution_count": 5
  },
  {
   "metadata": {
    "ExecuteTime": {
     "end_time": "2024-08-02T15:09:12.246372Z",
     "start_time": "2024-08-02T15:09:12.241809Z"
    }
   },
   "cell_type": "code",
   "source": "choices([1, 2, 3])",
   "id": "e828cb4b7b1ee253",
   "outputs": [
    {
     "data": {
      "text/plain": [
       "[1]"
      ]
     },
     "execution_count": 9,
     "metadata": {},
     "output_type": "execute_result"
    }
   ],
   "execution_count": 9
  },
  {
   "metadata": {},
   "cell_type": "code",
   "outputs": [],
   "execution_count": null,
   "source": "",
   "id": "392f3dfbdca680f"
  }
 ],
 "metadata": {
  "kernelspec": {
   "display_name": "petenv",
   "language": "python",
   "name": "pet_env"
  },
  "language_info": {
   "codemirror_mode": {
    "name": "ipython",
    "version": 2
   },
   "file_extension": ".py",
   "mimetype": "text/x-python",
   "name": "python",
   "nbconvert_exporter": "python",
   "pygments_lexer": "ipython2",
   "version": "2.7.6"
  }
 },
 "nbformat": 4,
 "nbformat_minor": 5
}
