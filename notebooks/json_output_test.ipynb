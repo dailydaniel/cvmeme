{
 "cells": [
  {
   "metadata": {
    "ExecuteTime": {
     "end_time": "2024-08-19T12:02:56.062861Z",
     "start_time": "2024-08-19T12:02:55.786417Z"
    }
   },
   "cell_type": "code",
   "source": [
    "import sys\n",
    "sys.path.append('../src/')\n",
    "\n",
    "from core import extract_text_from_pdf"
   ],
   "id": "ade172ad412d0683",
   "outputs": [],
   "execution_count": 40
  },
  {
   "metadata": {
    "ExecuteTime": {
     "end_time": "2024-08-19T10:45:04.823561Z",
     "start_time": "2024-08-19T10:45:03.736673Z"
    }
   },
   "cell_type": "code",
   "source": [
    "# from enum import Enum\n",
    "\n",
    "from pydantic import BaseModel\n",
    "\n",
    "import sglang as sgl\n",
    "from sglang.srt.constrained import build_regex_from_object"
   ],
   "id": "1f5965be460fc267",
   "outputs": [],
   "execution_count": 1
  },
  {
   "metadata": {
    "ExecuteTime": {
     "end_time": "2024-08-19T12:05:10.481637Z",
     "start_time": "2024-08-19T12:05:10.478949Z"
    }
   },
   "cell_type": "code",
   "source": [
    "from glob import glob\n",
    "from openai import OpenAI"
   ],
   "id": "2e32190552dd924d",
   "outputs": [],
   "execution_count": 47
  },
  {
   "metadata": {
    "ExecuteTime": {
     "end_time": "2024-08-19T10:45:06.222648Z",
     "start_time": "2024-08-19T10:45:06.211571Z"
    }
   },
   "cell_type": "code",
   "source": [
    "from dotenv import load_dotenv\n",
    "import os\n",
    "\n",
    "import json"
   ],
   "id": "60a27a564006cae3",
   "outputs": [],
   "execution_count": 2
  },
  {
   "metadata": {
    "ExecuteTime": {
     "end_time": "2024-08-19T10:45:07.168135Z",
     "start_time": "2024-08-19T10:45:07.160157Z"
    }
   },
   "cell_type": "code",
   "source": "load_dotenv()",
   "id": "b710cd71856cace3",
   "outputs": [
    {
     "data": {
      "text/plain": [
       "True"
      ]
     },
     "execution_count": 3,
     "metadata": {},
     "output_type": "execute_result"
    }
   ],
   "execution_count": 3
  },
  {
   "metadata": {
    "ExecuteTime": {
     "end_time": "2024-08-19T10:45:08.173696Z",
     "start_time": "2024-08-19T10:45:07.697740Z"
    }
   },
   "cell_type": "code",
   "source": "sgl.set_default_backend(sgl.RuntimeEndpoint(os.environ['LLM_HOST'][:-3]))",
   "id": "97963955b435ad96",
   "outputs": [],
   "execution_count": 4
  },
  {
   "metadata": {},
   "cell_type": "markdown",
   "source": "### Random test",
   "id": "3132de2a5201ef7e"
  },
  {
   "metadata": {
    "ExecuteTime": {
     "end_time": "2024-08-19T11:55:15.247422Z",
     "start_time": "2024-08-19T11:55:15.241848Z"
    }
   },
   "cell_type": "code",
   "source": [
    "class Answer(BaseModel):\n",
    "    a: int\n",
    "    b: int\n",
    "    result: int\n",
    "\n",
    "\n",
    "@sgl.function\n",
    "def sum_gen(s, prompt):\n",
    "    s += prompt\n",
    "    s += \"Give me a sum of two provided numbers in the JSON format.\\n\"\n",
    "    s += sgl.gen(\n",
    "        \"json_output\",\n",
    "        max_tokens=512,\n",
    "        temperature=0,\n",
    "        regex=build_regex_from_object(Answer),\n",
    "    )\n",
    "\n",
    "\n",
    "def driver_sum_gen(prompt: str = \"\"):\n",
    "    state = sum_gen.run(prompt)\n",
    "    return state.text()"
   ],
   "id": "a6024fbd93043bf4",
   "outputs": [],
   "execution_count": 32
  },
  {
   "metadata": {
    "ExecuteTime": {
     "end_time": "2024-08-19T11:56:35.166218Z",
     "start_time": "2024-08-19T11:56:34.401978Z"
    }
   },
   "cell_type": "code",
   "source": [
    "resp = driver_sum_gen(\"2, 30\\n\")\n",
    "\n",
    "print(resp)"
   ],
   "id": "75a4774c3227fbff",
   "outputs": [
    {
     "name": "stdout",
     "output_type": "stream",
     "text": [
      "2, 30\n",
      "Give me a sum of two provided numbers in the JSON format.\n",
      "{ \"a\" : 2, \"b\" : 30, \"result\" : 32 }\n"
     ]
    }
   ],
   "execution_count": 37
  },
  {
   "metadata": {},
   "cell_type": "markdown",
   "source": "### CV test",
   "id": "69c5b58f34429b21"
  },
  {
   "metadata": {
    "ExecuteTime": {
     "end_time": "2024-08-19T12:06:45.520640Z",
     "start_time": "2024-08-19T12:06:45.159333Z"
    }
   },
   "cell_type": "code",
   "source": [
    "client = OpenAI(\n",
    "    api_key=os.environ['OPENAI_API_KEY'],\n",
    "    base_url=os.environ['LLM_HOST']\n",
    ")\n",
    "\n",
    "model_name = client.models.list().data[0].id\n",
    "\n",
    "def gen(prompt: str):\n",
    "    response = client.chat.completions.create(\n",
    "        model=model_name,\n",
    "        messages=[\n",
    "            {\n",
    "                \"role\": \"user\",\n",
    "                \"content\": [\n",
    "                    {\"type\": \"text\", \"text\": prompt},\n",
    "                ],\n",
    "            }\n",
    "        ],\n",
    "        max_tokens=2048,\n",
    "        temperature=0.0,\n",
    "    )\n",
    "    \n",
    "    return response"
   ],
   "id": "d3b6841347b996d5",
   "outputs": [],
   "execution_count": 48
  },
  {
   "metadata": {
    "ExecuteTime": {
     "end_time": "2024-08-19T13:20:08.303994Z",
     "start_time": "2024-08-19T13:20:08.297773Z"
    }
   },
   "cell_type": "code",
   "source": [
    "scale = \"\"\"\n",
    "1. Work experience:\n",
    "- < 20: Less than a year\n",
    "- 20: 1 years\n",
    "- 50: 3 years\n",
    "- 75: 6 years\n",
    "- > 90: 10+ years\n",
    "\n",
    "2. Responsibility:\n",
    "- < 20: Very low (cannot delegate tasks)\n",
    "- < 40: Low (needs strong supervision)\n",
    "- 50: Average (needs to check periodically)\n",
    "- > 75: High (sometimes better to check)\n",
    "- > 90: Very high (can be relied upon)\n",
    "\n",
    "3. Creativity:\n",
    "- < 20: Very low (follows instructions)\n",
    "- 30: Low (makes small suggestions)\n",
    "- 50: Average (sometimes generates new ideas)\n",
    "- > 75: High (often suggests innovative solutions)\n",
    "- > 90: Very high (constantly suggests innovative solutions)\n",
    "\n",
    "4. Communication skills:\n",
    "- 25: Very low (difficult to communicate)\n",
    "- 40: Low (limited communication)\n",
    "- 50: Average (normal communication)\n",
    "- 70: High (good communication)\n",
    "- > 90: Very high (exceptional communication skills)\n",
    "\n",
    "5. Leadership skills:\n",
    "- < 15: Very low (never takes leadership)\n",
    "- 25: Low (rarely takes leadership)\n",
    "- 50: Average (sometimes takes leadership)\n",
    "- 60: High (often takes leadership)\n",
    "- > 80: Very high (constantly shows leadership)\n",
    "\n",
    "6. Stress resistance:\n",
    "- < 25: Very low (cannot cope with stress)\n",
    "- 40: Low (difficulty coping with stress)\n",
    "- 50: Average (has problems with stress)\n",
    "- 70: High (no problems with stress)\n",
    "- > 80: Very high (exceptional coping with stress)\n",
    "\n",
    "7. Job difficulty:\n",
    "- < 15: Very low (easy job, requiring no skills)\n",
    "- 25: Low (job with basic requirements)\n",
    "- 50: Average (requires some skills and knowledge)\n",
    "- 75: High (requires significant knowledge and skills)\n",
    "- > 90: Very high (expert level, complex tasks)\n",
    "\n",
    "8. Average length of employment in one place:\n",
    "- < 30: Very low (less than 6 months)\n",
    "- 40: Low (6 months - 1 year)\n",
    "- 50: Average (1-2 years)\n",
    "- 75: High (2-4 years)\n",
    "- > 90: Very high (more than 4 years)\n",
    "\n",
    "9. Career growth:\n",
    "- < 15: No growth (stays at the same level)\n",
    "- 25: Low (minor increase)\n",
    "- 50: Average (moderate increase)\n",
    "- 75: High (significant increase)\n",
    "- > 90: Very high (rapid promotion up the career ladder)\n",
    "\n",
    "10. Level of meticulousness of description:\n",
    "- < 10: Very low (very few details and short)\n",
    "- 25: Low (some details, but still short)\n",
    "- 50: Average (fairly detailed, but not too detailed)\n",
    "- 75: High (detailed and well described)\n",
    "- > 90: Very high (extremely detailed description)\n",
    "\n",
    "11. Cleverness level:\n",
    "- < 20: Very low (very simple words with mistakes)\n",
    "- 35: Low (simple words without mistakes)\n",
    "- 50: Average (common words)\n",
    "- 65: High (complex words)\n",
    "- > 80: Very high (very complex and rare words)\n",
    "\n",
    "12. Arrogance level:\n",
    "- < 10: Very low (very modest)\n",
    "- 20: Low (modest)\n",
    "- 50: Average (a little confident, but not arrogant)\n",
    "- 80: High (very confident, with elements of arrogance)\n",
    "- > 90: Very high (very arrogant)\n",
    "\n",
    "13. Education:\n",
    "- < 20: Primary, secondary or no\n",
    "- 40: Incomplete or specialized secondary education\n",
    "- 60: Bachelor's degree\n",
    "- 70: Master's degree\n",
    "- > 85: Postgraduate or PhD\n",
    "\n",
    "14. Academic status:\n",
    "- < 30: Work experience only\n",
    "- 50: Work experience own projects\n",
    "- 65: Work experience, own projects, diploma in the specialty\n",
    "- 80: Own projects, diploma in the specialty, publications\n",
    "- > 90: Diploma in the specialty, publications, teaching\n",
    "\n",
    "15. Foreign languages:\n",
    "- < 10: No\n",
    "- < 40: Basic English\n",
    "- 60: Good English\n",
    "- 75: Advanced English or several languages\n",
    "- > 85: Resume in English\n",
    "\n",
    "16. Professional certificates:\n",
    "- < 25: No\n",
    "- 40: There is a course\n",
    "- 65: There are several courses\n",
    "- 75: Many courses or scheduled certificates\n",
    "- > 90: Many certificates and courses\n",
    "\"\"\"\n",
    "\n",
    "scale = \"\"\"\n",
    "1. Work experience:\n",
    "- < 20: Less than a year\n",
    "- > 90: 10+ years\n",
    "\n",
    "2. Responsibility:\n",
    "- < 20: Very low (cannot delegate tasks)\n",
    "- < 40: Low (needs strong supervision)\n",
    "- > 75: High (sometimes better to check)\n",
    "- > 90: Very high (can be relied upon)\n",
    "\n",
    "3. Creativity:\n",
    "- < 20: Very low (follows instructions)\n",
    "- > 90: Very high (constantly suggests innovative solutions)\n",
    "\n",
    "4. Communication skills:\n",
    "- 25: Very low (difficult to communicate)\n",
    "- > 90: Very high (exceptional communication skills)\n",
    "\n",
    "5. Leadership skills:\n",
    "- < 15: Very low (never takes leadership)\n",
    "- > 80: Very high (constantly shows leadership)\n",
    "\n",
    "6. Stress resistance:\n",
    "- < 25: Very low (cannot cope with stress)\n",
    "- > 80: Very high (exceptional coping with stress)\n",
    "\n",
    "7. Job difficulty:\n",
    "- < 15: Very low (easy job, requiring no skills)\n",
    "- > 90: Very high (expert level, complex tasks)\n",
    "\n",
    "8. Average length of employment in one place:\n",
    "- < 30: Very low (less than 6 months)\n",
    "- > 90: Very high (more than 4 years)\n",
    "\n",
    "9. Career growth:\n",
    "- < 15: No growth (stays at the same level)\n",
    "- > 90: Very high (rapid promotion up the career ladder)\n",
    "\n",
    "10. Level of meticulousness of description:\n",
    "- < 10: Very low (very few details and short)\n",
    "- > 90: Very high (extremely detailed description)\n",
    "\n",
    "11. Cleverness level:\n",
    "- < 20: Very low (very simple words with mistakes)\n",
    "- > 80: Very high (very complex and rare words)\n",
    "\n",
    "12. Arrogance level:\n",
    "- < 10: Very low (very modest)\n",
    "- > 90: Very high (very arrogant)\n",
    "\n",
    "13. Education:\n",
    "- < 20: Primary, secondary or no\n",
    "- > 85: Postgraduate or PhD\n",
    "\n",
    "14. Academic status:\n",
    "- < 30: Work experience only\n",
    "- > 90: Diploma in the specialty, publications, teaching\n",
    "\n",
    "15. Foreign languages:\n",
    "- < 10: No\n",
    "- > 85: Resume in English\n",
    "\n",
    "16. Professional certificates:\n",
    "- < 25: No\n",
    "- > 90: Many certificates and courses\n",
    "\"\"\""
   ],
   "id": "8ad573f921b37769",
   "outputs": [],
   "execution_count": 136
  },
  {
   "metadata": {
    "ExecuteTime": {
     "end_time": "2024-08-19T13:28:52.156646Z",
     "start_time": "2024-08-19T13:28:52.147168Z"
    }
   },
   "cell_type": "code",
   "source": [
    "class CV(BaseModel):\n",
    "    work_experience: int\n",
    "    responsibility: int\n",
    "    creativity: int\n",
    "    communication_skills: int\n",
    "    leadership_qualities: int\n",
    "    stress_resistance: int\n",
    "    job_difficulty_level: int\n",
    "    average_length_of_employment_at_one_job: int\n",
    "    career_growth_speed: int\n",
    "    description_details_level: int\n",
    "    description_complexity_level: int\n",
    "    arrogance_level: int\n",
    "    education_quality: int\n",
    "    academic_level: int\n",
    "    foreign_languages: int\n",
    "    professional_certificates: int\n",
    "\n",
    "\n",
    "@sgl.function\n",
    "def cv_parsing_gen(s, prompt):\n",
    "    s += prompt + \"\\n\\n\" if prompt else \"\"\n",
    "    s += \"Give me a description about a provided CV in the JSON format. All values must be in percentiles between 0% and 100% of all other people.\\n\" + \"Criteria for evaluation:\\n\" + scale + \"\\n\"\n",
    "    s += sgl.gen(\n",
    "        \"json_output\",\n",
    "        max_tokens=512,\n",
    "        temperature=0,\n",
    "        regex=build_regex_from_object(CV),\n",
    "    )\n",
    "\n",
    "\n",
    "def driver_cv_parsing_gen(prompt: str = \"\"):\n",
    "    state = cv_parsing_gen.run(prompt)\n",
    "    return state.text()"
   ],
   "id": "1ff451879a70022",
   "outputs": [],
   "execution_count": 174
  },
  {
   "metadata": {
    "ExecuteTime": {
     "end_time": "2024-08-19T13:26:42.210906Z",
     "start_time": "2024-08-19T13:26:42.192479Z"
    }
   },
   "cell_type": "code",
   "source": [
    "cv_path = glob('../data/cv/*')[1]\n",
    "\n",
    "success, cv = extract_text_from_pdf(cv_path, _bytes=False)"
   ],
   "id": "178d486df7f6aedc",
   "outputs": [],
   "execution_count": 168
  },
  {
   "metadata": {
    "ExecuteTime": {
     "end_time": "2024-08-19T13:26:43.290600Z",
     "start_time": "2024-08-19T13:26:43.287085Z"
    }
   },
   "cell_type": "code",
   "source": "print(cv)",
   "id": "325edec76df6956f",
   "outputs": [
    {
     "name": "stdout",
     "output_type": "stream",
     "text": [
      "Алёна Ильинична Соловьева\n",
      "1\n",
      "Алёна Ильинична Соловьева\n",
      "Психолог\n",
      "Москва\n",
      "23 года\n",
      "+7(929)-909-35-22\n",
      "solovevaalena247@gmail.com\n",
      "Психолог с опытом консультирования, ведения лекций и тренингов. Училась по \n",
      "обмену в Италии, диплом Специалиста и несколько курсов доп. образования. \n",
      "Суммарный опыт работы около двух лет. Увлекаюсь дизайном, вела медиаресурс. \n",
      "Основной приоритет - интересные проекты, в которых получится применить свои \n",
      "знания и навыки.\n",
      "Опыт работы\n",
      "Психолог в социальной \n",
      "сфере, ГБУ Мой \n",
      "семейный центр \n",
      "“Горизонт”,\n",
      "мойсемейныйцентр.москва\n",
      "июнь 2023 - ноябрь 2023\n",
      "Индивидуальная и групповая психологическая \n",
      "работа с подростками.\n",
      "Работа с аддикциями.\n",
      "Выездные обучающие мероприятия для \n",
      "повышения качества работы персонала других \n",
      "центров.\n",
      "Ведение документации.\n",
      "Менеджер по работе с \n",
      "клиентами, СТС \n",
      "Эвентим РУ, ООО \n",
      "parter.ru\n",
      "август 2018 - декабрь 2019\n",
      "Ведение клиентов (физ. и юр. лиц).\n",
      "Составление документации.\n",
      "Работа на массовых мероприятиях.\n",
      "Решение проблемных вопросов в рамках \n",
      "мероприятия.\n",
      "Организация и контроль входной группы на \n",
      "мероприятиях.\n",
      "Алёна Ильинична Соловьева\n",
      "2\n",
      "Образование\n",
      "АНО “НИИДПО”, Курс повышения \n",
      "квалификации\n",
      "Когнитивно-поведенческая терапия \n",
      "как метод психокоррекционного \n",
      "воздействия при аддиктивном и \n",
      "суицидальном поведении, тревожно-\n",
      "депрессивных расстройствах, 2023\n",
      "МГППУ, Москва, Специалитет\n",
      "Экстремальная психология, психология \n",
      "служебной деятельности, 2023\n",
      "Sapienza Università di Roma, Учебная \n",
      "стажировка\n",
      "Факультет “Medicina e Psicologia”, 2022\n",
      "Центр гештальт-психологии “You can \n",
      "live”, Курс\n",
      "“Гештальт-терапия”, 2019\n",
      "Ключевые навыки\n",
      "Знание языков\n",
      "Русский - родной\n",
      "Английский - C1\n",
      "Итальянский - A2\n",
      "Навыки\n",
      "Figma  Межкультурная коммуникация  \n",
      "Работа в коллективе  \n",
      "Математическая статистика  \n",
      "Ведение лекций и тренингов  \n",
      "Photoshop  Excel  Word\n",
      "Психологические консультации\n",
      "Дополнительная информация\n",
      "Интернет магазин\n",
      "Внеучебная деятельность в \n",
      "университете\n",
      "Дизайн и съемка кроссовок для \n",
      "повышения продаж интернет магазина\n",
      "Ведение Media Center ВКонтакте: \n",
      "текстовое оформление постов, \n",
      "ведение рубрик, \n",
      "дизайн изображений к постам, \n",
      "увеличение базы подписчиков \n",
      "путем анализа активности\n",
      "\n"
     ]
    }
   ],
   "execution_count": 169
  },
  {
   "metadata": {
    "ExecuteTime": {
     "end_time": "2024-08-19T13:27:01.463709Z",
     "start_time": "2024-08-19T13:26:56.138453Z"
    }
   },
   "cell_type": "code",
   "source": [
    "system = \"\"\"You are given a resume. Make a short summary of this resume.\n",
    "Describe work experience, education, skills, qualities and additional information in the resume.\\n\"\"\"\n",
    "\n",
    "resp = gen(system + cv)"
   ],
   "id": "89963e573bbe1ba3",
   "outputs": [],
   "execution_count": 170
  },
  {
   "metadata": {
    "ExecuteTime": {
     "end_time": "2024-08-19T13:27:03.939876Z",
     "start_time": "2024-08-19T13:27:03.935386Z"
    }
   },
   "cell_type": "code",
   "source": "print(resp.choices[0].message.content)",
   "id": "56f0580617911e59",
   "outputs": [
    {
     "name": "stdout",
     "output_type": "stream",
     "text": [
      "Алёна Соловьева is a licensed psychologist with 2 years of professional experience. She specializes in individual and group therapy for adolescents, addiction counseling, and training for staff at various organizations. \n",
      "\n",
      "Her work experience includes:\n",
      "\n",
      "* **Social work:**  Providing psychological services at the \"Horizon\" family center.\n",
      "* **Event management:** Managing clients, organizing events, and resolving issues.\n",
      "* **Client management:** Working with both physical and legal entities.\n",
      "\n",
      "She holds a specialization in extreme psychology and has completed courses in cognitive-behavioral therapy, Gestalt therapy, and media management. \n",
      "\n",
      "**Key skills:**\n",
      "\n",
      "* **Languages:** Russian (native), English (C1), Italian (A2)\n",
      "* **Software:** Figma, Photoshop, Excel, Word\n",
      "* **Other:**  Intercultural communication, teamwork, statistical analysis, presentation and training skills.\n",
      "\n",
      "**Additional information:**\n",
      "\n",
      "* She has experience in online marketing, specifically designing and promoting shoes for an online store.\n",
      "* She is active in social media, managing a media center on VKontakte. \n",
      "\n",
      "\n",
      "Overall, Алёна is a skilled and experienced psychologist with a strong background in both individual and group therapy, as well as event management and online marketing. \n",
      "\n"
     ]
    }
   ],
   "execution_count": 171
  },
  {
   "metadata": {
    "ExecuteTime": {
     "end_time": "2024-08-19T13:28:35.625906Z",
     "start_time": "2024-08-19T13:28:32.887774Z"
    }
   },
   "cell_type": "code",
   "source": "resp = driver_cv_parsing_gen(resp.choices[0].message.content)",
   "id": "8efa4bac9bae1a8f",
   "outputs": [],
   "execution_count": 172
  },
  {
   "metadata": {
    "ExecuteTime": {
     "end_time": "2024-08-19T13:21:04.209875Z",
     "start_time": "2024-08-19T13:21:04.205065Z"
    }
   },
   "cell_type": "code",
   "source": "json.loads(resp.split('\\n')[-1]) # Daniel",
   "id": "ebf3c998ddf87098",
   "outputs": [
    {
     "data": {
      "text/plain": [
       "{'work_experience': 6,\n",
       " 'responsibility': 60,\n",
       " 'creativity': 80,\n",
       " 'communication_skills': 90,\n",
       " 'leadership_qualities': 70,\n",
       " 'stress_resistance': 85,\n",
       " 'job_difficulty_level': 70,\n",
       " 'average_length_of_employment_at_one_job': 50,\n",
       " 'career_growth_speed': 80,\n",
       " 'description_details_level': 85,\n",
       " 'description_complexity_level': 80,\n",
       " 'arrogance_level': 20,\n",
       " 'education_quality': 80,\n",
       " 'academic_level': 80,\n",
       " 'foreign_languages': 80,\n",
       " 'professional_certificates': 70}"
      ]
     },
     "execution_count": 144,
     "metadata": {},
     "output_type": "execute_result"
    }
   ],
   "execution_count": 144
  },
  {
   "metadata": {
    "ExecuteTime": {
     "end_time": "2024-08-19T13:28:36.769624Z",
     "start_time": "2024-08-19T13:28:36.764847Z"
    }
   },
   "cell_type": "code",
   "source": "json.loads(resp.split('\\n')[-1]) # Alena",
   "id": "e7cc90d0af5e850d",
   "outputs": [
    {
     "data": {
      "text/plain": [
       "{'work_experience': 100,\n",
       " 'responsibility': 80,\n",
       " 'creativity': 70,\n",
       " 'communication_skills': 90,\n",
       " 'leadership_qualities': 85,\n",
       " 'stress_resistance': 95,\n",
       " 'job_difficulty_level': 70,\n",
       " 'average_length_of_employment_at_one_job': 60,\n",
       " 'career_growth_speed': 80,\n",
       " 'description_details_level': 90,\n",
       " 'description_complexity_level': 85,\n",
       " 'arrogance_level': 20,\n",
       " 'education_quality': 90,\n",
       " 'academic_level': 85,\n",
       " 'foreign_languages': 95,\n",
       " 'professional_certificates': 80}"
      ]
     },
     "execution_count": 173,
     "metadata": {},
     "output_type": "execute_result"
    }
   ],
   "execution_count": 173
  },
  {
   "metadata": {
    "ExecuteTime": {
     "end_time": "2024-08-19T13:25:44.013268Z",
     "start_time": "2024-08-19T13:25:44.008502Z"
    }
   },
   "cell_type": "code",
   "source": "json.loads(resp.split('\\n')[-1]) # Edwin",
   "id": "ca854dbe6349d6a3",
   "outputs": [
    {
     "data": {
      "text/plain": [
       "{'work_experience': 10,\n",
       " 'responsibility': 80,\n",
       " 'creativity': 90,\n",
       " 'communication_skills': 95,\n",
       " 'leadership_qualities': 70,\n",
       " 'stress_resistance': 85,\n",
       " 'job_difficulty_level': 80,\n",
       " 'average_length_of_employment_at_one_job': 50,\n",
       " 'career_growth_speed': 90,\n",
       " 'description_details_level': 95,\n",
       " 'description_complexity_level': 85,\n",
       " 'arrogance_level': 20,\n",
       " 'education_quality': 80,\n",
       " 'academic_level': 85,\n",
       " 'foreign_languages': 80,\n",
       " 'professional_certificates': 80}"
      ]
     },
     "execution_count": 167,
     "metadata": {},
     "output_type": "execute_result"
    }
   ],
   "execution_count": 167
  },
  {
   "metadata": {
    "ExecuteTime": {
     "end_time": "2024-08-19T14:03:48.722905Z",
     "start_time": "2024-08-19T14:03:48.715092Z"
    }
   },
   "cell_type": "code",
   "source": [
    "class CV(BaseModel):\n",
    "    work_experience_level: int\n",
    "    # average_length_of_employment: int\n",
    "    # creativity_level: int\n",
    "    responsibility_level: int\n",
    "    leadership_skills_level: int\n",
    "    stress_resistance_quality: int\n",
    "    average_job_difficulty_level: int\n",
    "    career_growth_speed: int\n",
    "    nerdiness_level: int\n",
    "    arrogance_level: int\n",
    "    education_quality: int\n",
    "    academic_level: int\n",
    "\n",
    "@sgl.function\n",
    "def cv_parsing_gen(s, prompt, schema):\n",
    "    s += prompt + \"\\n\\n\"\n",
    "    s += \"Result should be in the JSON format.\\n\"\n",
    "    s += sgl.gen(\n",
    "        \"json_output\",\n",
    "        max_tokens=512,\n",
    "        temperature=0,\n",
    "        regex=build_regex_from_object(schema),\n",
    "    )\n",
    "\n",
    "def driver_cv_parsing_gen(prompt: str, cv: str, schema):\n",
    "    input_txt = f\"{prompt}\\n\\n{cv}\"\n",
    "    state = cv_parsing_gen.run(input_txt, schema)\n",
    "    return state.text()"
   ],
   "id": "849336bfe2771b53",
   "outputs": [],
   "execution_count": 196
  },
  {
   "metadata": {
    "ExecuteTime": {
     "end_time": "2024-08-19T14:09:19.400986Z",
     "start_time": "2024-08-19T14:09:19.387194Z"
    }
   },
   "cell_type": "code",
   "source": [
    "cv_path = glob('../data/cv/*')[0]\n",
    "\n",
    "success, cv = extract_text_from_pdf(cv_path, _bytes=False)"
   ],
   "id": "eb5a0e039eb30274",
   "outputs": [],
   "execution_count": 213
  },
  {
   "metadata": {
    "ExecuteTime": {
     "end_time": "2024-08-19T14:09:21.528110Z",
     "start_time": "2024-08-19T14:09:19.862363Z"
    }
   },
   "cell_type": "code",
   "source": [
    "description_prompt = \"You are given a cv and a json schema. Describe the resume in the required format. All values should be between 0 and 5.\"\n",
    "\n",
    "cv_described = driver_cv_parsing_gen(description_prompt, cv, CV)\n",
    "cv_described = json.loads(cv_described.split('\\n')[-1])"
   ],
   "id": "99d6679f9cc7ccda",
   "outputs": [],
   "execution_count": 214
  },
  {
   "metadata": {
    "ExecuteTime": {
     "end_time": "2024-08-19T14:09:21.999050Z",
     "start_time": "2024-08-19T14:09:21.995130Z"
    }
   },
   "cell_type": "code",
   "source": "cv_described  # Edwin",
   "id": "f931a916a45a8c15",
   "outputs": [
    {
     "data": {
      "text/plain": [
       "{'work_experience_level': 4,\n",
       " 'responsibility_level': 4,\n",
       " 'leadership_skills_level': 3,\n",
       " 'stress_resistance_quality': 3,\n",
       " 'average_job_difficulty_level': 4,\n",
       " 'career_growth_speed': 4,\n",
       " 'nerdiness_level': 4,\n",
       " 'arrogance_level': 1,\n",
       " 'education_quality': 4,\n",
       " 'academic_level': 4}"
      ]
     },
     "execution_count": 215,
     "metadata": {},
     "output_type": "execute_result"
    }
   ],
   "execution_count": 215
  },
  {
   "metadata": {
    "ExecuteTime": {
     "end_time": "2024-08-19T14:09:11.921885Z",
     "start_time": "2024-08-19T14:09:11.917906Z"
    }
   },
   "cell_type": "code",
   "source": "cv_described  # Alena",
   "id": "e6d448524002e4e3",
   "outputs": [
    {
     "data": {
      "text/plain": [
       "{'work_experience_level': 2,\n",
       " 'responsibility_level': 3,\n",
       " 'leadership_skills_level': 2,\n",
       " 'stress_resistance_quality': 3,\n",
       " 'average_job_difficulty_level': 3,\n",
       " 'career_growth_speed': 2,\n",
       " 'nerdiness_level': 3,\n",
       " 'arrogance_level': 1,\n",
       " 'education_quality': 3,\n",
       " 'academic_level': 3}"
      ]
     },
     "execution_count": 212,
     "metadata": {},
     "output_type": "execute_result"
    }
   ],
   "execution_count": 212
  },
  {
   "metadata": {
    "ExecuteTime": {
     "end_time": "2024-08-19T13:59:32.804912Z",
     "start_time": "2024-08-19T13:59:32.800709Z"
    }
   },
   "cell_type": "code",
   "source": "cv",
   "id": "2088fabc52a27af9",
   "outputs": [
    {
     "data": {
      "text/plain": [
       "'Алёна Ильинична Соловьева\\n1\\nАлёна Ильинична Соловьева\\nПсихолог\\nМосква\\n23 года\\n+7(929)-909-35-22\\nsolovevaalena247@gmail.com\\nПсихолог с опытом консультирования, ведения лекций и тренингов. Училась по \\nобмену в Италии, диплом Специалиста и несколько курсов доп. образования. \\nСуммарный опыт работы около двух лет. Увлекаюсь дизайном, вела медиаресурс. \\nОсновной приоритет - интересные проекты, в которых получится применить свои \\nзнания и навыки.\\nОпыт работы\\nПсихолог в социальной \\nсфере, ГБУ Мой \\nсемейный центр \\n“Горизонт”,\\nмойсемейныйцентр.москва\\nиюнь 2023 - ноябрь 2023\\nИндивидуальная и групповая психологическая \\nработа с подростками.\\nРабота с аддикциями.\\nВыездные обучающие мероприятия для \\nповышения качества работы персонала других \\nцентров.\\nВедение документации.\\nМенеджер по работе с \\nклиентами, СТС \\nЭвентим РУ, ООО \\nparter.ru\\nавгуст 2018 - декабрь 2019\\nВедение клиентов (физ. и юр. лиц).\\nСоставление документации.\\nРабота на массовых мероприятиях.\\nРешение проблемных вопросов в рамках \\nмероприятия.\\nОрганизация и контроль входной группы на \\nмероприятиях.\\nАлёна Ильинична Соловьева\\n2\\nОбразование\\nАНО “НИИДПО”, Курс повышения \\nквалификации\\nКогнитивно-поведенческая терапия \\nкак метод психокоррекционного \\nвоздействия при аддиктивном и \\nсуицидальном поведении, тревожно-\\nдепрессивных расстройствах, 2023\\nМГППУ, Москва, Специалитет\\nЭкстремальная психология, психология \\nслужебной деятельности, 2023\\nSapienza Università di Roma, Учебная \\nстажировка\\nФакультет “Medicina e Psicologia”, 2022\\nЦентр гештальт-психологии “You can \\nlive”, Курс\\n“Гештальт-терапия”, 2019\\nКлючевые навыки\\nЗнание языков\\nРусский - родной\\nАнглийский - C1\\nИтальянский - A2\\nНавыки\\nFigma  Межкультурная коммуникация  \\nРабота в коллективе  \\nМатематическая статистика  \\nВедение лекций и тренингов  \\nPhotoshop  Excel  Word\\nПсихологические консультации\\nДополнительная информация\\nИнтернет магазин\\nВнеучебная деятельность в \\nуниверситете\\nДизайн и съемка кроссовок для \\nповышения продаж интернет магазина\\nВедение Media Center ВКонтакте: \\nтекстовое оформление постов, \\nведение рубрик, \\nдизайн изображений к постам, \\nувеличение базы подписчиков \\nпутем анализа активности\\n'"
      ]
     },
     "execution_count": 187,
     "metadata": {},
     "output_type": "execute_result"
    }
   ],
   "execution_count": 187
  },
  {
   "metadata": {},
   "cell_type": "code",
   "outputs": [],
   "execution_count": null,
   "source": "",
   "id": "45bf610134453b9b"
  }
 ],
 "metadata": {
  "kernelspec": {
   "display_name": "petenv",
   "language": "python",
   "name": "pet_env"
  },
  "language_info": {
   "codemirror_mode": {
    "name": "ipython",
    "version": 2
   },
   "file_extension": ".py",
   "mimetype": "text/x-python",
   "name": "python",
   "nbconvert_exporter": "python",
   "pygments_lexer": "ipython2",
   "version": "2.7.6"
  }
 },
 "nbformat": 4,
 "nbformat_minor": 5
}
